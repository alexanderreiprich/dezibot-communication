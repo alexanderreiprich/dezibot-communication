{
 "cells": [
  {
   "cell_type": "code",
   "execution_count": 1,
   "id": "2fa68b4c",
   "metadata": {},
   "outputs": [],
   "source": [
    "import pandas as pd\n",
    "import plotly.graph_objects as go\n",
    "import plotly.io as pio\n",
    "\n",
    "input_file = \"dezibot_logging_5kHz_3000dutycycle_small.csv\"\n",
    "dataset = pd.read_csv(input_file, delimiter=\";\")\n",
    "df = pd.DataFrame(dataset)\n",
    "# print(df);\n",
    "# print(df[df.columns[0]].head())  # Or check for NaNs\n",
    "# print(df.isnull().sum())\n",
    "x = df[df.columns[0]]\n",
    "y = df[df.columns[1]]\n",
    "\n",
    "fig = go.Figure()\n",
    "fig.add_trace(go.Scatter(x=x, y=y, mode='lines+markers', name='Array elements', line=dict(color='red')))\n",
    "fig.update_layout(title=\"Sensor Data\", xaxis_title=\"time\", yaxis_title=\"amplitude\")\n",
    "\n",
    "pio.renderers.default = 'browser'  # Or 'notebook', 'svg', etc.\n",
    "fig.show()\n"
   ]
  },
  {
   "cell_type": "code",
   "execution_count": 2,
   "id": "09d9f47e",
   "metadata": {},
   "outputs": [],
   "source": [
    "import pandas as pd\n",
    "import numpy as np\n",
    "import plotly.graph_objects as go\n",
    "import plotly.io as pio\n",
    "\n",
    "# Datei laden\n",
    "input_file = \"dezibot_logging_5kHz_3000dutycycle_small.csv\"\n",
    "dataset = pd.read_csv(input_file, delimiter=\";\")\n",
    "df = pd.DataFrame(dataset)\n",
    "\n",
    "# Zeit- und Amplitudensignal extrahieren\n",
    "x = df[df.columns[0]]  # Zeit\n",
    "y = df[df.columns[1]]  # Amplitude\n",
    "\n",
    "# Sampling-Rate berechnen (aus Zeitdaten)\n",
    "time_diffs = np.diff(x)\n",
    "mean_dt = np.mean(time_diffs)\n",
    "sampling_rate = 1 / mean_dt\n",
    "\n",
    "# FFT durchführen\n",
    "n = len(y)\n",
    "y_fft = np.fft.fft(y)\n",
    "frequencies = np.fft.fftfreq(n, d=mean_dt)\n",
    "magnitude = np.abs(y_fft) / n\n",
    "\n",
    "# Nur positive Frequenzen plotten (Spiegelung bei realen Signalen)\n",
    "mask = frequencies >= 0\n",
    "frequencies = frequencies[mask]\n",
    "magnitude = magnitude[mask]\n",
    "\n",
    "# FFT-Plot erzeugen\n",
    "fig_fft = go.Figure()\n",
    "fig_fft.add_trace(go.Scatter(x=frequencies, y=magnitude, mode='lines', name='FFT', line=dict(color='blue')))\n",
    "fig_fft.update_layout(title=\"Frequenzspektrum (FFT)\", xaxis_title=\"Frequenz (Hz)\", yaxis_title=\"Amplitude\")\n",
    "\n",
    "# Ergebnisse anzeigen\n",
    "pio.renderers.default = 'browser'\n",
    "fig_fft.show()\n"
   ]
  },
  {
   "cell_type": "code",
   "execution_count": null,
   "id": "21c8a0f3",
   "metadata": {},
   "outputs": [],
   "source": []
  }
 ],
 "metadata": {
  "kernelspec": {
   "display_name": "Python 3",
   "language": "python",
   "name": "python3"
  },
  "language_info": {
   "codemirror_mode": {
    "name": "ipython",
    "version": 3
   },
   "file_extension": ".py",
   "mimetype": "text/x-python",
   "name": "python",
   "nbconvert_exporter": "python",
   "pygments_lexer": "ipython3",
   "version": "3.12.7"
  }
 },
 "nbformat": 4,
 "nbformat_minor": 5
}
